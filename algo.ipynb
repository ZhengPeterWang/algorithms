{
 "cells": [
  {
   "cell_type": "markdown",
   "metadata": {},
   "source": [
    "# CS 4820 Algorithms\n",
    "\n",
    "This is a study note for CS 4820: algorithms. It is meant to be a summary of crucial materials in the course. This was the first time that I wrote notes like this in English.\n",
    "\n",
    "## 1 Greedy Algorithms\n",
    "\n",
    "### 1.1 Problem: Interval Scheduling\n",
    "\n",
    "#### The Problem\n",
    "\n",
    "There are n requests that occupy time intervals. Each of them starts at s(i) and ends at f(i). Only one request could be processed at a time. Find the maximum amount of requests that could be scheduled without time intervals overlapping with each other.\n",
    "\n",
    "#### The Design\n",
    "\n",
    "While scheduling, always choose the first compatible interval with the least f(i)'s.\n",
    "\n",
    "#### The Analysis\n",
    "\n",
    "Proof: By \"Stays Ahead\" Method. We prove that among all possible solutions, our solution has the least f(i) for every i. Then we prove by contradiction that our solution is optimal.\n",
    "\n",
    "Run Time: O(n log n), from sorting.\n",
    "\n",
    "### 1.2 Problem: Minimize Lateness Scheduling\n",
    "\n",
    "#### The Problem\n",
    "\n",
    "All intervals are available from point s. Each has length t(i) and deadline d(i). Scheduling intervals after the deadline will have a lateness penality proportional to lateness time. Only one interval can be processed at a time. All intervals should be scheduled. Find a scheduling of these intervals such that the total lateness is minimized.\n",
    "\n",
    "#### The Design\n",
    "\n",
    "Always schedule the one with the earliest deadline first.\n",
    "\n",
    "#### The Analysis\n",
    "\n",
    "Proof: By \"Exchange\" Method. First we prove that there is an optimal solution O with no idle time. Then we prove that invert the scheduling of all intervals with deadlines against the \"fully sorted order\" will not increase total lateness. Since intervals can be inverted up untill become fully sorted by their deadlines, our solution is proved to be at least as good as optimal.\n",
    "\n",
    "### 1.3 Problem: Graph Shortest Paths\n",
    "\n",
    "#### The Problem\n",
    "\n",
    "In a graph where each edge is weighed by l(e) non negative, find a path from s to v with the lowest sum of l(e)'s.\n",
    "\n",
    "#### The Design: Dijkstra's Algorithm\n",
    "\n",
    "Starting from s. Add all nodes already explored to a set S. For each node j with at least an edge connecting to S, refresh its distance to s using\n",
    "\n",
    "\\begin{equation*}\n",
    "d'(v) = min_{e=(u,v):u\\in S}d(u)+l_{e}\n",
    "\\end{equation*}\n"
   ]
  }
 ],
 "metadata": {
  "kernelspec": {
   "display_name": "Python 3",
   "language": "python",
   "name": "python3"
  },
  "language_info": {
   "codemirror_mode": {
    "name": "ipython",
    "version": 3
   },
   "file_extension": ".py",
   "mimetype": "text/x-python",
   "name": "python",
   "nbconvert_exporter": "python",
   "pygments_lexer": "ipython3",
   "version": "3.7.1"
  }
 },
 "nbformat": 4,
 "nbformat_minor": 2
}
